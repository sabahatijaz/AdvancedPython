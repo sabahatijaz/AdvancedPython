{
 "cells": [
  {
   "cell_type": "markdown",
   "id": "educational-brick",
   "metadata": {},
   "source": [
    "1. Lambda Functions\n",
    "Lambda functions are also called anonymous functions in Python. Some people simply refer to them as lambdas. They have the following syntax: lambda arguments: expression. In essence, we use the lambda keyword to signify the declaration of a lambda function. Then we list the arguments, the number of which can be zero or more. After the colon, we list the expression that uses these arguments for any applicable operations.\n",
    "Lambda functions are particularly useful in cases where we need to have a short one-time use function. For instance, several built-in functions have the key argument, to which we can set a lambda function."
   ]
  },
  {
   "cell_type": "code",
   "execution_count": null,
   "id": "verbal-italy",
   "metadata": {},
   "outputs": [],
   "source": [
    "# Declare a list of tuples\n",
    ">>> scores = [('John', 95), ('Danny', 98), ('Aaron', 90), ('Leo', 94)]\n",
    ">>> # Sort using the default order of the tuples\n",
    ">>> sorted(scores, reverse=True)\n",
    "\n",
    ">>> # Sort using the scores\n",
    ">>> sorted(scores, key=lambda x: x[1], reverse=True)\n"
   ]
  },
  {
   "cell_type": "markdown",
   "id": "streaming-things",
   "metadata": {},
   "source": [
    "In the above code, we wanted to sort a list of tuples. By default, the tuples will be sorted based on each of the items contained. In this case, the sorting was based on the names’ first letters. However, we wanted to solve by the scores, which are the second items of the tuples. To accomplish it, we took advantage of the lambda function, in which the x argument refers to each tuple that was to be sorted. Because the score was the second item in each tuple, we just needed to specify the index of 1 to access the second item.\n"
   ]
  },
  {
   "cell_type": "markdown",
   "id": "latest-sitting",
   "metadata": {},
   "source": [
    "2. Comprehensions"
   ]
  },
  {
   "cell_type": "markdown",
   "id": "driven-snowboard",
   "metadata": {},
   "source": [
    "Probably the most Pythonic example that is mentioned a lot is the comprehension technique. In essence, this technique allows us to create a list, dictionary, or set using an exiting iterable, which are named list comprehension, dictionary comprehension, and set comprehension, respectively. The following code snippet shows you these usages."
   ]
  },
  {
   "cell_type": "code",
   "execution_count": null,
   "id": "parliamentary-bottom",
   "metadata": {},
   "outputs": [],
   "source": [
    ">>> # Create a list to be used in comprehensions\n",
    ">>> numbers = [1, 2, 3, -3, -2, -1]\n",
    ">>> # Create a new list of these numbers' squares\n",
    ">>> [x*x for x in numbers]\n",
    ">>> # Create a new dictionary of these numbers' exponentiation\n",
    ">>> {x: pow(10, x) for x in numbers}\n",
    "\n",
    ">>> # Create a set of these numbers' absolutes\n",
    ">>> {abs(x) for x in numbers}\n"
   ]
  },
  {
   "cell_type": "markdown",
   "id": "incorporated-roller",
   "metadata": {},
   "source": [
    "Instead of implementing for-loops, these comprehensions are very handy to create these container data types. More importantly, they’re usually faster than the for-loops, and thus they’re more performant and should be the preferred way for these operations.\n"
   ]
  },
  {
   "cell_type": "markdown",
   "id": "different-spectrum",
   "metadata": {},
   "source": [
    "3. Generators"
   ]
  },
  {
   "cell_type": "markdown",
   "id": "enormous-madness",
   "metadata": {},
   "source": [
    "Previously, I’ve mentioned iterables, which refer to Python objects that can be iterated. During the iteration, the iterable is converted to an iterator, such that the iterator can render elements when needed. One particular kind of iterator is a generator. Unlike typical iterables, such as lists and dictionaries — which have all their elements loaded in the memory — generators produce elements in a lazy fashion without the need of loading all elements in the memory, and thus they’re memory-efficient iterables. A trivial example is shown in the following code snippet."
   ]
  },
  {
   "cell_type": "code",
   "execution_count": null,
   "id": "damaged-startup",
   "metadata": {},
   "outputs": [],
   "source": [
    ">>> # A trivial generator function\n",
    "... def abc_generator():\n",
    "...     yield \"a\"\n",
    "...     yield \"b\"\n",
    "...     yield \"c\"\n",
    "... \n",
    "... \n",
    "... abc_gen = abc_generator()\n",
    "... print(\"Type of abc_gen:\", type(abc_gen))\n",
    "... for letter in abc_gen:\n",
    "...     print(letter)\n",
    "... \n"
   ]
  },
  {
   "cell_type": "markdown",
   "id": "ruled-practice",
   "metadata": {},
   "source": [
    "As you can see, the generator function makes a generator involving the use of the yield keyword. During iteration, these elements are rendered sequentially.\n",
    "One practical use case of generators is to deal with a large amount of data — when all loaded, it can slow down the computer or simply can’t be loaded at all because of an enormously large size. For instance, a trivial example would be to calculate the sum of integers 1–10,000,000,000. I tried 1 billion on my computer and found out that the size was about 8 GB. So, 10 billion would be about 80 GB if I had tried it, which would probably crash the program or even my computer. Without being able to create the list, it was impossible for me to calculate the sum using the list. In this case, we should consider generators."
   ]
  },
  {
   "cell_type": "code",
   "execution_count": null,
   "id": "herbal-toyota",
   "metadata": {},
   "outputs": [],
   "source": [
    "limit = 10000000000\n",
    "\n",
    "# Use a generator function\n",
    "def integer_generator():\n",
    "    n = 0\n",
    "    while n < limit:\n",
    "        n += 1\n",
    "        yield n\n",
    "\n",
    "\n",
    "int_gen = integer_generator()\n",
    "int_sum0 = sum(int_gen)\n",
    "\n",
    "# Use generator expression\n",
    "int_sum1 = sum(x for x in range(1, limit+1))"
   ]
  },
  {
   "cell_type": "markdown",
   "id": "alternate-renewal",
   "metadata": {},
   "source": [
    "As shown above, we can create a generator that produces an integer once at a time, which is memory-efficient. The above code snippet shows you another useful technique called generator expression, which has the following format: (expr for item in iterable)."
   ]
  },
  {
   "cell_type": "markdown",
   "id": "expired-proof",
   "metadata": {},
   "source": [
    "4. Decorators"
   ]
  },
  {
   "cell_type": "markdown",
   "id": "naval-service",
   "metadata": {},
   "source": [
    "Decorators are higher-order functions that modify other functions’ behavior without affecting their core functionalities. You can think of other functions as plain donuts; the decoration is the process of applying coatings to the donuts. No matter how you decorate them, they’re still donuts. In other words, decorators are just to add some tweaks in terms of the functions’ look or some other non-essential aspects without changing their internal algorithm. Let’s look at decorators with a trivial example."
   ]
  },
  {
   "cell_type": "code",
   "execution_count": null,
   "id": "exceptional-baking",
   "metadata": {},
   "outputs": [],
   "source": [
    "from functools import wraps\n",
    "import time\n",
    "\n",
    "\n",
    "def timing(func):\n",
    "    @wraps(func)\n",
    "    def wrapped(*args, **kwargs):\n",
    "        start = time.time()\n",
    "        func(*args, **kwargs)\n",
    "        end = time.time()\n",
    "        print(f\"Time Elapsed: {end-start}\")\n",
    "\n",
    "    return wrapped\n",
    "\n",
    "@timing\n",
    "def sum_of_squares(n):\n",
    "    int_sum = sum(x*x for x in range(n))\n",
    "    print(f\"Sum of Squares from 1 to {n}: {int_sum}\")"
   ]
  },
  {
   "cell_type": "markdown",
   "id": "coordinated-result",
   "metadata": {},
   "source": [
    "The above example shows you how to declare a decorator function and how to use it to decorate other functions. As you can see, the decorator function timing takes another function as a parameter, which logs the running time of the decorated function. Notably, the decorated function returns the function as its output. To use the decorator, we simply place it above another function’s top by using a @ sign as a prefix, which signals that the following declared function is decorated by this specified decorator function. The following code shows you what the decoration is like."
   ]
  },
  {
   "cell_type": "code",
   "execution_count": null,
   "id": "portable-metadata",
   "metadata": {},
   "outputs": [],
   "source": [
    ">>> sum_of_squares(100)\n",
    "... sum_of_squares(10000000)\n",
    "... "
   ]
  },
  {
   "cell_type": "markdown",
   "id": "speaking-cycling",
   "metadata": {},
   "source": [
    "5. Hashability"
   ]
  },
  {
   "cell_type": "markdown",
   "id": "offshore-dance",
   "metadata": {},
   "source": [
    "When we learn Python dictionaries, we get to know that the keys need to be hashable. What does hashable mean? Hashable simply means a particular Python object can be hashed, the process of which is known as hashing. The following diagram shows you a simplified flow of how hashing works."
   ]
  },
  {
   "cell_type": "markdown",
   "id": "spanish-leisure",
   "metadata": {},
   "source": [
    "Essentially, hashing is the process of using a hash function (sometimes referred to as hasher) to convert Python objects (called keys in the diagram) to numeric hashed values (called hashes in the diagram). A quick way to know if a particular Python object is to use the built-in hash() function to fetch the hash value. If the object is not hashable, Python will raise a TypeError exception for us."
   ]
  },
  {
   "cell_type": "code",
   "execution_count": null,
   "id": "ongoing-therapy",
   "metadata": {},
   "outputs": [],
   "source": [
    ">>> # Get an string object's hash value\n",
    ">>> hash(\"Hello World!\")\n",
    ">>> \n",
    ">>> # Get a tuple object's hash value\n",
    ">>> hash((2, 'Hello'))\n",
    ">>> \n",
    ">>> # Get a list object's hash value\n",
    ">>> hash([1, 2, 3])\n",
    "\n",
    ">>> \n",
    ">>> # Get a dict object's hash value\n",
    ">>> hash({\"a\": 1, \"b\": 2})\n"
   ]
  },
  {
   "cell_type": "markdown",
   "id": "constitutional-universe",
   "metadata": {},
   "source": [
    "Notably, hashing takes time and can be slower than building lists and tuples. So the question is — why do we bother implementing dictionaries using hashing? On a related note, you may have heard that the elements in a set need to be hashable too. Under the hood, both creating dictionaries and sets require the building of hash tables. The following code snippet shows you how the hashability of particular objects may affect their qualifications to be used as dictionary keys.\n",
    "The biggest advantage of using hashes is instant look-up time (i.e., O(1) time complexity) for fetching an element in the dictionary. Similarly, checking whether a particular item is in the set takes a constant time, too. In other words, using hashing as the implementation mechanism provides high efficiency for various common operations, such as item retrieving, item insertion, and item checking, at the expense of the overhead of having the hash table under the hood."
   ]
  },
  {
   "cell_type": "code",
   "execution_count": null,
   "id": "human-joining",
   "metadata": {},
   "outputs": [],
   "source": [
    ">>> import random\n",
    "... import timeit\n",
    "... \n",
    "... \n",
    "... # Create a function to check the look up time\n",
    "... def dict_look_up_time(n):\n",
    "...     numbers = list(range(n))\n",
    "...     random.shuffle(numbers)\n",
    "...     d0 = {x: str(x) for x in numbers}\n",
    "...     random_int = random.randint(0, n - 1)\n",
    "...     t0 = timeit.timeit(lambda: d0[random_int], number=10000)\n",
    "...     return t0\n",
    "... \n",
    "... \n",
    "... for n in (10, 100, 1000, 10000, 100000):\n",
    "...     elapse_time = dict_look_up_time(n)\n",
    "...     print(f\"*** N = {n:<8}: {elapse_time:.5f}\")"
   ]
  },
  {
   "cell_type": "markdown",
   "id": "latin-benefit",
   "metadata": {},
   "source": [
    "To mimic a real situation, we generate some random integers to get an average lookup time for item fetching. As you can see, even with 100,000 items in the dictionary, the lookup time stays about the same, which highlights the advantage of implementing a hash table as the storage mechanism for the dictionaries."
   ]
  },
  {
   "cell_type": "markdown",
   "id": "classical-journey",
   "metadata": {},
   "source": [
    "Conclusions\n",
    "\n",
    "In this article, we reviewed five advanced concepts in Python. Here’s a quick recap of the most key takeaway information.\n",
    "\n",
    "Lambda functions. You use lambda functions to have a simple operation, usually within another function call, such as sorted() or max().\n",
    "\n",
    "Comprehensions. They’re convenient and performant ways to create lists, dictionaries, and sets from iterables.\n",
    "\n",
    "Generators. Generators are lazily-evaluated iterators that render items only when requested, and thus they’re very memory efficient. They should be used when you’re dealing with a large amount of data sequentially.\n",
    "\n",
    "Decorators. Decorators are useful when you want to have some non-algorithmic modifications with current functions. In addition, decorators can be used repeatedly. Once defined, they can decorate as many functions as you want.\n",
    "\n",
    "Hashability. Hashability is the required characteristic of Python objects that can be used as dictionary keys or set elements. They provide a mechanism for efficient item retrieving and insertion, as well as membership checking.\n"
   ]
  },
  {
   "cell_type": "markdown",
   "id": "gothic-compound",
   "metadata": {},
   "source": [
    "6. Maps"
   ]
  },
  {
   "cell_type": "markdown",
   "id": "bulgarian-jonathan",
   "metadata": {},
   "source": [
    "Map() is a built-in Python function used to apply a function to a sequence of elements like a list or dictionary. It’s a very clean and most importantly readable way to perform such an operation."
   ]
  },
  {
   "cell_type": "code",
   "execution_count": 1,
   "id": "interpreted-builder",
   "metadata": {},
   "outputs": [
    {
     "name": "stdout",
     "output_type": "stream",
     "text": [
      "<map object at 0x0000018070752970>\n",
      "<map object at 0x0000018070752AF0>\n"
     ]
    }
   ],
   "source": [
    "def square_it_func(a):\n",
    "    return a * a\n",
    "\n",
    "x = map(square_it_func, [1, 4, 7])\n",
    "print(x) # prints '[1, 16, 49]'\n",
    "\n",
    "def multiplier_func(a, b):\n",
    "    return a * b\n",
    "\n",
    "x = map(multiplier_func, [1, 4, 7], [2, 5, 8])\n",
    "print(x) # prints '[2, 20, 56]'"
   ]
  },
  {
   "cell_type": "markdown",
   "id": "stuffed-renewal",
   "metadata": {},
   "source": [
    "Check out the example above! We can apply our function to a single list or multiple lists. In fact, you can use a map with any python function you can think of, as long as it’s compatible with the sequence elements you are operating on."
   ]
  },
  {
   "cell_type": "markdown",
   "id": "superb-massage",
   "metadata": {},
   "source": [
    "7. Filtering"
   ]
  },
  {
   "cell_type": "markdown",
   "id": "scheduled-insured",
   "metadata": {},
   "source": [
    "The Filter built-in function is quite similar to the Map function in that it applies a function to a sequence (list, tuple, dictionary). The key difference is that filter() will only return the elements which the applied function returned as True."
   ]
  },
  {
   "cell_type": "code",
   "execution_count": 2,
   "id": "vocal-sherman",
   "metadata": {},
   "outputs": [
    {
     "name": "stdout",
     "output_type": "stream",
     "text": [
      "<filter object at 0x0000018070752F40>\n"
     ]
    }
   ],
   "source": [
    "# Our numbers\n",
    "numbers = [1, 2, 3, 4, 5, 6, 7, 8, 9, 10, 11, 12, 13, 14, 15]\n",
    "\n",
    "# Function that filters out all numbers which are odd\n",
    "def filter_odd_numbers(num):\n",
    "\n",
    "    if num % 2 == 0:\n",
    "        return True\n",
    "    else:\n",
    "        return False\n",
    "\n",
    "filtered_numbers = filter(filter_odd_numbers, numbers)\n",
    "\n",
    "print(filtered_numbers)\n",
    "# filtered_numbers = [2, 4, 6, 8, 10, 12, 14]    "
   ]
  },
  {
   "cell_type": "markdown",
   "id": "korean-modification",
   "metadata": {},
   "source": [
    "Not only did we evaluate True or False for each list element, the filter() function also made sure to only return the elements which matched as True. Very convenient for handling to two steps of checking an expression and building a return list."
   ]
  },
  {
   "cell_type": "markdown",
   "id": "soviet-blame",
   "metadata": {},
   "source": [
    "8. Itertools"
   ]
  },
  {
   "cell_type": "markdown",
   "id": "herbal-photography",
   "metadata": {},
   "source": [
    "The Python Itertools module is a collection of tools for handling iterators. An iterator is a data type that can be used in a for loop including lists, tuples, and dictionaries.\n",
    "Using the functions in the Itertools module will allow you to perform many iterator operations that would normally require multi-line functions and complicated list comprehension. Check out the examples below for an awesome illustration of the magic of Itertools!"
   ]
  },
  {
   "cell_type": "code",
   "execution_count": 8,
   "id": "ordered-silence",
   "metadata": {},
   "outputs": [
    {
     "name": "stdout",
     "output_type": "stream",
     "text": [
      "(1, 'a')\n",
      "(2, 'b')\n",
      "(3, 'c')\n",
      "(1, 'Bob')\n",
      "(2, 'Emily')\n",
      "(3, 'Joe')\n",
      "Checking:  2\n",
      "Result:  2\n",
      "Result:  4\n",
      "Result:  6\n",
      "Result:  8\n",
      "Result:  10\n",
      "Result:  12\n",
      "(1, <itertools._grouper object at 0x0000018070835280>) (2, <itertools._grouper object at 0x0000018070835C70>) (3, <itertools._grouper object at 0x0000018070835D30>) (4, <itertools._grouper object at 0x0000018070835DC0>) (5, <itertools._grouper object at 0x0000018070835E80>) "
     ]
    }
   ],
   "source": [
    "from itertools import *\n",
    "from timeit import timeit\n",
    "\n",
    "# Easy joining of two lists into a list of tuples\n",
    "for i in zip([1, 2, 3], ['a', 'b', 'c']):\n",
    "    print(i)\n",
    "# ('a', 1)\n",
    "# ('b', 2)\n",
    "# ('c', 3)\n",
    "\n",
    "# The count() function returns an interator that \n",
    "# produces consecutive integers, forever. This \n",
    "# one is great for adding indices next to your list \n",
    "# elements for readability and convenience\n",
    "for i in zip(count(1), ['Bob', 'Emily', 'Joe']):\n",
    "    print(i)\n",
    "# (1, 'Bob')\n",
    "# (2, 'Emily')\n",
    "# (3, 'Joe')    \n",
    "\n",
    "# The dropwhile() function returns an iterator that returns \n",
    "# all the elements of the input which come after a certain \n",
    "# condition becomes false for the first time. \n",
    "def check_for_drop(x):\n",
    "    print('Checking: ', x)\n",
    "    return (x > 5)\n",
    "\n",
    "for i in dropwhile(check_for_drop, [2, 4, 6, 8, 10, 12]):\n",
    "    print('Result: ', i)\n",
    "\n",
    "# Checking: 2\n",
    "# Checking: 4\n",
    "# Result: 6\n",
    "# Result: 8\n",
    "# Result: 10\n",
    "# Result: 12\n",
    "\n",
    "\n",
    "# The groupby() function is great for retrieving bunches\n",
    "# of iterator elements which are the same or have similar \n",
    "# properties\n",
    "\n",
    "a = sorted([1, 2, 1, 3, 2, 1, 2, 3, 4, 5])\n",
    "for key, value in groupby(a):\n",
    "    print((key, value), end=' ')\n",
    "    \n",
    "# (1, [1, 1, 1])\n",
    "# (2, [2, 2, 2]) \n",
    "# (3, [3, 3]) \n",
    "# (4, [4]) \n",
    "# (5, [5]) "
   ]
  },
  {
   "cell_type": "markdown",
   "id": "sound-playback",
   "metadata": {},
   "source": [
    "9. Python Generators vs Iterators – Comparison Between Python Iterators and Generators"
   ]
  },
  {
   "cell_type": "markdown",
   "id": "coupled-motel",
   "metadata": {},
   "source": [
    "Let’s see the difference between Iterators and Generators in python.\n",
    "\n",
    "In creating a python generator, we use a function. But in creating an iterator in python, we use the iter() and next() functions.\n",
    "A generator in python makes use of the ‘yield’ keyword. A python iterator doesn’t.\n",
    "Python generator saves the states of the local variables every time ‘yield’ pauses the loop in python. An iterator does not make use of local variables, all it needs is iterable to iterate on.\n",
    "A generator may have any number of ‘yield’ statements.\n",
    "You can implement your own iterator using a python class; a generator does not need a class in python.\n",
    "To write a python generator, you can either use a Python function or a comprehension. But for an iterator, you must use the iter() and next() functions.\n",
    "Generator in python let us write fast and compact code. This is an advantage over Python iterators. They are also simpler to code than do custom iterator.\n",
    "Python iterator is more memory-efficient."
   ]
  },
  {
   "cell_type": "markdown",
   "id": "blind-collector",
   "metadata": {},
   "source": [
    "a. A python generator is an iterator\n",
    "\n",
    "b. Python iterator is an iterable\n",
    "\n",
    "Hence, we study the difference between python generator vs iterator and we can say every generator is an iterator in Python, not every python iterator is a generator. Both come in handy and have their own perks."
   ]
  },
  {
   "cell_type": "markdown",
   "id": "impressed-history",
   "metadata": {},
   "source": [
    "Python Generators and Iterator Protocol\n",
    "\n",
    "\n",
    "Python Meta-programming\n",
    "\n",
    "\n",
    "Python Descriptors\n",
    "\n",
    "Python Decorators (class and method based)\n",
    "\n",
    "Python Buffering Protocol\n",
    "\n",
    "Python Comprehensions\n",
    "\n",
    "Python GIL and multiprocessing and multithreading\n",
    "\n",
    "Python WSGI protocol\n",
    "\n",
    "Python Context Managers\n",
    "\n",
    "Python Design Patterns\n",
    "\n",
    "1) List Comprehension.\n",
    "\n",
    "2) Dictionary Comprehension.\n",
    "\n",
    "3) Lambda function.\n",
    "\n",
    "4) How are List, Dictionary, Set are implemented internally.\n",
    "\n",
    "5) Generators.\n",
    "\n",
    "6) Difference between range() and xrange(), zip() and izip() (closely related to point 5)\n",
    "\n",
    "7) How Python makes private methods of a class.\n",
    "\n",
    "8) How literally everything in python is an object.\n",
    "\n",
    "9) Pythons Magic methods (think __add__).\n",
    "\n",
    "10) Parameters Passing in function(by value or by reference ?)"
   ]
  },
  {
   "cell_type": "code",
   "execution_count": null,
   "id": "organizational-swift",
   "metadata": {},
   "outputs": [],
   "source": []
  }
 ],
 "metadata": {
  "kernelspec": {
   "display_name": "Python 3",
   "language": "python",
   "name": "python3"
  },
  "language_info": {
   "codemirror_mode": {
    "name": "ipython",
    "version": 3
   },
   "file_extension": ".py",
   "mimetype": "text/x-python",
   "name": "python",
   "nbconvert_exporter": "python",
   "pygments_lexer": "ipython3",
   "version": "3.8.5"
  }
 },
 "nbformat": 4,
 "nbformat_minor": 5
}
